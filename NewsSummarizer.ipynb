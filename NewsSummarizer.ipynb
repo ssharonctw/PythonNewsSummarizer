{
 "cells": [
  {
   "cell_type": "code",
   "execution_count": 1,
   "id": "53432eb7",
   "metadata": {},
   "outputs": [],
   "source": [
    "#import packages\n",
    "from bs4 import BeautifulSoup\n",
    "from requests import get #import only the function we need (memory management)"
   ]
  },
  {
   "cell_type": "code",
   "execution_count": 2,
   "id": "d96896b2",
   "metadata": {},
   "outputs": [
    {
     "name": "stdout",
     "output_type": "stream",
     "text": [
      "No URL is entered. Proceeding with default url\n"
     ]
    }
   ],
   "source": [
    "import sys #for argument parsing\n",
    "\n",
    "# Exception Handling\n",
    "\n",
    "if len(sys.argv) > 1 and len(sys.argv[1])>5:\n",
    "    url = sys.argv[1]\n",
    "else:\n",
    "    print(\"No URL is entered. Proceeding with default url\")\n",
    "    #url = \"https://en.wikinews.org/wiki/Global_markets_plunge\"\n",
    "    url = \"https://www.bbc.com/news/technology-60780142\""
   ]
  },
  {
   "cell_type": "code",
   "execution_count": 3,
   "id": "c9c90afc",
   "metadata": {},
   "outputs": [],
   "source": [
    "#Function to extract only text from <p> tags\n",
    "def get_only_text(url):\n",
    "    #return the title and the text of the article at the specified url\n",
    "    page = get(url)\n",
    "    soup = BeautifulSoup(page.content, \"lxml\")\n",
    "    #print(soup)\n",
    "    \n",
    "    #iterating through all p tags in the page and join all texts\n",
    "    text = ' '.join(map(lambda p: p.text, soup.find_all('p')))\n",
    "    #text = soup.text\n",
    "    #print(text)\n",
    "    \n",
    "    #also extract the title\n",
    "    #using .stripped_strings as some title might contain excape strings like slashes or \\n\n",
    "    title = ' '.join(soup.title.stripped_strings)\n",
    "    return title , text   "
   ]
  },
  {
   "cell_type": "code",
   "execution_count": 4,
   "id": "94804b61",
   "metadata": {
    "scrolled": true
   },
   "outputs": [
    {
     "name": "stdout",
     "output_type": "stream",
     "text": [
      "Deepfake presidents used in Russia-Ukraine war - BBC News\n",
      "981\n"
     ]
    }
   ],
   "source": [
    "text = get_only_text(url)\n",
    "#len(text)#check if the get_only_Text return 2 args (title, text)\n",
    "\n",
    "#check the title and content\n",
    "print(text[0])\n",
    "#print(text[1])\n",
    "\n",
    "\n",
    "#check the number of words (str.split splits the words in text[1])\n",
    "print(len(str.split(text[1])))"
   ]
  },
  {
   "cell_type": "code",
   "execution_count": 5,
   "id": "6c25707e",
   "metadata": {},
   "outputs": [
    {
     "name": "stderr",
     "output_type": "stream",
     "text": [
      "C:\\Users\\sshar\\anaconda3\\lib\\site-packages\\gensim\\utils.py:1212: UserWarning: detected Windows; aliasing chunkize to chunkize_serial\n",
      "  warnings.warn(\"detected Windows; aliasing chunkize to chunkize_serial\")\n"
     ]
    }
   ],
   "source": [
    "#libraries used for summarization\n",
    "from gensim.summarization.summarizer import summarize\n",
    "from gensim.summarization import keywords"
   ]
  },
  {
   "cell_type": "code",
   "execution_count": 6,
   "id": "d6ca9994",
   "metadata": {},
   "outputs": [
    {
     "name": "stdout",
     "output_type": "stream",
     "text": [
      "Title : Deepfake presidents used in Russia-Ukraine war - BBC News\n",
      "Summary : \n",
      "'By Jane WakefieldBBC Technology A deepfake video shared on Twitter, appearing to show Russian President Vladimir Putin declaring peace, has resurfaced.\n",
      "\"People start to believe that everything can be faked,\" Ms Schick said \"It is a new weapon and a potent form of visual disinformation - and anyone can do it.\" A deepfake tool letting users animate old photos of relatives has been widely used and the company behind it, MyHeritage, has now added LiveStory, which allows voices to be added.\n",
      "No.of words:  133\n"
     ]
    }
   ],
   "source": [
    "print (\"Title : \" + text[0])\n",
    "print (\"Summary with Keywords Limits: \")\n",
    "\n",
    "#method 1: use word count as a threshold in gensin text summarizer\n",
    "#use gensim summarizer (actual_text_content, ratio, word_count)\n",
    "#ratio and word_count cannot be used together\n",
    "print (summarize(repr(text[1]), word_count=100))\n",
    "print(\"No.of words: \",len(str.split(summarize(repr(text[1]), word_count=150))))"
   ]
  },
  {
   "cell_type": "code",
   "execution_count": 7,
   "id": "3ea7342f",
   "metadata": {},
   "outputs": [
    {
     "name": "stdout",
     "output_type": "stream",
     "text": [
      "Title : Deepfake presidents used in Russia-Ukraine war - BBC News\n",
      "Summary : \n",
      "'By Jane WakefieldBBC Technology A deepfake video shared on Twitter, appearing to show Russian President Vladimir Putin declaring peace, has resurfaced.\n",
      "\"People start to believe that everything can be faked,\" Ms Schick said \"It is a new weapon and a potent form of visual disinformation - and anyone can do it.\" A deepfake tool letting users animate old photos of relatives has been widely used and the company behind it, MyHeritage, has now added LiveStory, which allows voices to be added.\n",
      "No.of words:  181\n"
     ]
    }
   ],
   "source": [
    "#method 2: using ratio as threshold\n",
    "\n",
    "print (\"Title : \" + text[0])\n",
    "print (\"Summary with Ratio Limits: \")\n",
    "print (summarize(repr(text[1]), ratio=0.05))\n",
    "print(\"No.of words: \",len(str.split(summarize(repr(text[1]), ratio=0.1))))"
   ]
  },
  {
   "cell_type": "code",
   "execution_count": 8,
   "id": "08e91c87",
   "metadata": {},
   "outputs": [
    {
     "name": "stdout",
     "output_type": "stream",
     "text": [
      "\n",
      "Keywords:\n",
      "deepfakes\n",
      "president\n",
      "media\n",
      "videos\n",
      "putin\n",
      "tools\n",
      "policies\n",
      "remain\n",
      "ukraine\n",
      "russians\n",
      "misinformation\n",
      "head\n",
      "ukrainian\n",
      "zelensky\n",
      "said\n",
      "instagram\n",
      "real\n",
      "group\n",
      "appeared\n",
      "bridge\n",
      "kim\n",
      "christmas\n"
     ]
    }
   ],
   "source": [
    "print ('\\nKeywords:')\n",
    "#lemmatize helped removing dupplicated keywords that have same wordstem\n",
    "print (keywords(text[1], ratio=0.1, lemmatize=True)) "
   ]
  },
  {
   "cell_type": "code",
   "execution_count": null,
   "id": "7c8074b6",
   "metadata": {},
   "outputs": [],
   "source": []
  }
 ],
 "metadata": {
  "kernelspec": {
   "display_name": "Python 3 (ipykernel)",
   "language": "python",
   "name": "python3"
  },
  "language_info": {
   "codemirror_mode": {
    "name": "ipython",
    "version": 3
   },
   "file_extension": ".py",
   "mimetype": "text/x-python",
   "name": "python",
   "nbconvert_exporter": "python",
   "pygments_lexer": "ipython3",
   "version": "3.9.7"
  }
 },
 "nbformat": 4,
 "nbformat_minor": 5
}
